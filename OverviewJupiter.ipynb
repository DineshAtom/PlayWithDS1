{
 "cells": [
  {
   "cell_type": "markdown",
   "metadata": {},
   "source": [
    "1. Jupiter Notebook contain cell, those are Code and Markdown \n",
    "     MARKDOWN - is kind of HTML, you write the descriptions here\n",
    "     CODE - here we write code using python, R etc...\n",
    "\n"
   ]
  },
  {
   "cell_type": "markdown",
   "metadata": {},
   "source": [
    "#Keyboard shortcuts\n",
    "A – to open new code cell, \n",
    "ESC – to switch from edit mode to  command mode,\n",
    "Enter - to switch from command mode to edit mode,   \n",
    "M – switch to Markdown mode,\n",
    "Y– switch to code mode,"
   ]
  }
 ],
 "metadata": {
  "language_info": {
   "name": "python"
  },
  "orig_nbformat": 4
 },
 "nbformat": 4,
 "nbformat_minor": 2
}
