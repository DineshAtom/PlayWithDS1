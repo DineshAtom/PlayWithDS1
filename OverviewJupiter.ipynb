{
 "cells": [
  {
   "cell_type": "markdown",
   "metadata": {},
   "source": [
    "1. Jupiter Notebook contain cell, those are Code and Markdown \n",
    "     MARKDOWN - is kind of HTML, you write the descriptions here [cheat sheet](https://www.markdownguide.org/cheat-sheet/)\n",
    "     CODE - here we write code using python, R etc...\n",
    "\n"
   ]
  },
  {
   "cell_type": "markdown",
   "metadata": {},
   "source": [
    "![purple-divider](https://user-images.githubusercontent.com/7065401/52071927-c1cd7100-2562-11e9-908a-dde91ba14e59.png)\n",
    "\n",
    "## Keyboard Shortcuts\n",
    "\n",
    "A – to open new code cell, \n",
    "ESC – to switch from edit mode to  command mode,\n",
    "Enter - to switch from command mode to edit mode,   \n",
    "M – switch to Markdown mode,\n",
    "Y– switch to code mode,"
   ]
  },
  {
   "cell_type": "code",
   "execution_count": 1,
   "metadata": {},
   "outputs": [
    {
     "name": "stdout",
     "output_type": "stream",
     "text": [
      "it's a code block where you write python or R \n"
     ]
    }
   ],
   "source": [
    "#this is code cell or block\n",
    "print(\"it's a code block where you write python or R \")"
   ]
  }
 ],
 "metadata": {
  "kernelspec": {
   "display_name": "Python 3.10.8 ('.venv': venv)",
   "language": "python",
   "name": "python3"
  },
  "language_info": {
   "codemirror_mode": {
    "name": "ipython",
    "version": 3
   },
   "file_extension": ".py",
   "mimetype": "text/x-python",
   "name": "python",
   "nbconvert_exporter": "python",
   "pygments_lexer": "ipython3",
   "version": "3.10.8"
  },
  "orig_nbformat": 4,
  "vscode": {
   "interpreter": {
    "hash": "aba22bf8443a854cef284ea48579888982ebee6fd7bb6f39cbc3ed499d3c8b1b"
   }
  }
 },
 "nbformat": 4,
 "nbformat_minor": 2
}
