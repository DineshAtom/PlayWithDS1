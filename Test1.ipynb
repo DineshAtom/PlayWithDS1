{
 "cells": [
  {
   "cell_type": "code",
   "execution_count": 4,
   "metadata": {},
   "outputs": [
    {
     "ename": "SyntaxError",
     "evalue": "invalid syntax. Perhaps you forgot a comma? (2950921713.py, line 6)",
     "output_type": "error",
     "traceback": [
      "\u001b[1;36m  Cell \u001b[1;32mIn [4], line 6\u001b[1;36m\u001b[0m\n\u001b[1;33m    sales = pd.read_csv('Data\\people-100.csv'parse_dates='Index')\u001b[0m\n\u001b[1;37m                        ^\u001b[0m\n\u001b[1;31mSyntaxError\u001b[0m\u001b[1;31m:\u001b[0m invalid syntax. Perhaps you forgot a comma?\n"
     ]
    }
   ],
   "source": [
    "import numpy as np \n",
    "import pandas as pd\n",
    "import matplotlib.pyplot as plt\n",
    "\n",
    "\n",
    "sales = pd.read_csv('Data\\people-100.csv'parse_dates=['Index'])\n",
    "print(sales)\n",
    "salesInfo = sales.info\n",
    "# print(\"Info is :\" + salesInfo)\n",
    "saleShape = sales.shape\n",
    "print(\"Shape is\") \n",
    "# print(sales.info) \n",
    "sales.describe\n",
    "sales.describe\n",
    "\n",
    "\n"
   ]
  }
 ],
 "metadata": {
  "kernelspec": {
   "display_name": "Python 3.10.8 ('.venv': venv)",
   "language": "python",
   "name": "python3"
  },
  "language_info": {
   "codemirror_mode": {
    "name": "ipython",
    "version": 3
   },
   "file_extension": ".py",
   "mimetype": "text/x-python",
   "name": "python",
   "nbconvert_exporter": "python",
   "pygments_lexer": "ipython3",
   "version": "3.10.8"
  },
  "orig_nbformat": 4,
  "vscode": {
   "interpreter": {
    "hash": "aba22bf8443a854cef284ea48579888982ebee6fd7bb6f39cbc3ed499d3c8b1b"
   }
  }
 },
 "nbformat": 4,
 "nbformat_minor": 2
}
