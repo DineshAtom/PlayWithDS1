{
 "cells": [
  {
   "cell_type": "code",
   "execution_count": null,
   "metadata": {},
   "outputs": [],
   "source": [
    "import numpy as np \n",
    "import pandas as pd\n",
    "import matplotlib.pyplot as plt\n",
    "%matplotlib inline\n",
    "\n",
    "people = pd.read_csv('Data\\people-100.csv',parse_dates=['Index'])\n",
    "sales = pd.read_csv('Data\\salesData.csv')\n",
    "print(sales)\n",
    "salesInfo = sales.info\n",
    "\n",
    "\n",
    "\n",
    "\n",
    "\n"
   ]
  },
  {
   "cell_type": "markdown",
   "metadata": {},
   "source": [
    "#This is a mark down, which kind of used as a HTML"
   ]
  },
  {
   "cell_type": "code",
   "execution_count": 14,
   "metadata": {},
   "outputs": [
    {
     "data": {
      "text/html": [
       "<div>\n",
       "<style scoped>\n",
       "    .dataframe tbody tr th:only-of-type {\n",
       "        vertical-align: middle;\n",
       "    }\n",
       "\n",
       "    .dataframe tbody tr th {\n",
       "        vertical-align: top;\n",
       "    }\n",
       "\n",
       "    .dataframe thead th {\n",
       "        text-align: right;\n",
       "    }\n",
       "</style>\n",
       "<table border=\"1\" class=\"dataframe\">\n",
       "  <thead>\n",
       "    <tr style=\"text-align: right;\">\n",
       "      <th></th>\n",
       "      <th>Index</th>\n",
       "      <th>User Id</th>\n",
       "      <th>First Name</th>\n",
       "      <th>Last Name</th>\n",
       "      <th>Sex</th>\n",
       "      <th>Email</th>\n",
       "      <th>Phone</th>\n",
       "      <th>Date of birth</th>\n",
       "      <th>Job Title</th>\n",
       "    </tr>\n",
       "  </thead>\n",
       "  <tbody>\n",
       "    <tr>\n",
       "      <th>0</th>\n",
       "      <td>1</td>\n",
       "      <td>88F7B33d2bcf9f5</td>\n",
       "      <td>Shelby</td>\n",
       "      <td>Terrell</td>\n",
       "      <td>Male</td>\n",
       "      <td>elijah57@example.net</td>\n",
       "      <td>001-084-906-7849x73518</td>\n",
       "      <td>1945-10-26</td>\n",
       "      <td>Games developer</td>\n",
       "    </tr>\n",
       "    <tr>\n",
       "      <th>1</th>\n",
       "      <td>2</td>\n",
       "      <td>f90cD3E76f1A9b9</td>\n",
       "      <td>Phillip</td>\n",
       "      <td>Summers</td>\n",
       "      <td>Female</td>\n",
       "      <td>bethany14@example.com</td>\n",
       "      <td>214.112.6044x4913</td>\n",
       "      <td>1910-03-24</td>\n",
       "      <td>Phytotherapist</td>\n",
       "    </tr>\n",
       "    <tr>\n",
       "      <th>2</th>\n",
       "      <td>3</td>\n",
       "      <td>DbeAb8CcdfeFC2c</td>\n",
       "      <td>Kristine</td>\n",
       "      <td>Travis</td>\n",
       "      <td>Male</td>\n",
       "      <td>bthompson@example.com</td>\n",
       "      <td>277.609.7938</td>\n",
       "      <td>1992-07-02</td>\n",
       "      <td>Homeopath</td>\n",
       "    </tr>\n",
       "    <tr>\n",
       "      <th>3</th>\n",
       "      <td>4</td>\n",
       "      <td>A31Bee3c201ef58</td>\n",
       "      <td>Yesenia</td>\n",
       "      <td>Martinez</td>\n",
       "      <td>Male</td>\n",
       "      <td>kaitlinkaiser@example.com</td>\n",
       "      <td>584.094.6111</td>\n",
       "      <td>2017-08-03</td>\n",
       "      <td>Market researcher</td>\n",
       "    </tr>\n",
       "    <tr>\n",
       "      <th>4</th>\n",
       "      <td>5</td>\n",
       "      <td>1bA7A3dc874da3c</td>\n",
       "      <td>Lori</td>\n",
       "      <td>Todd</td>\n",
       "      <td>Male</td>\n",
       "      <td>buchananmanuel@example.net</td>\n",
       "      <td>689-207-3558x7233</td>\n",
       "      <td>1938-12-01</td>\n",
       "      <td>Veterinary surgeon</td>\n",
       "    </tr>\n",
       "  </tbody>\n",
       "</table>\n",
       "</div>"
      ],
      "text/plain": [
       "  Index          User Id First Name Last Name     Sex  \\\n",
       "0     1  88F7B33d2bcf9f5     Shelby   Terrell    Male   \n",
       "1     2  f90cD3E76f1A9b9    Phillip   Summers  Female   \n",
       "2     3  DbeAb8CcdfeFC2c   Kristine    Travis    Male   \n",
       "3     4  A31Bee3c201ef58    Yesenia  Martinez    Male   \n",
       "4     5  1bA7A3dc874da3c       Lori      Todd    Male   \n",
       "\n",
       "                        Email                   Phone Date of birth  \\\n",
       "0        elijah57@example.net  001-084-906-7849x73518    1945-10-26   \n",
       "1       bethany14@example.com       214.112.6044x4913    1910-03-24   \n",
       "2       bthompson@example.com            277.609.7938    1992-07-02   \n",
       "3   kaitlinkaiser@example.com            584.094.6111    2017-08-03   \n",
       "4  buchananmanuel@example.net       689-207-3558x7233    1938-12-01   \n",
       "\n",
       "            Job Title  \n",
       "0     Games developer  \n",
       "1      Phytotherapist  \n",
       "2           Homeopath  \n",
       "3   Market researcher  \n",
       "4  Veterinary surgeon  "
      ]
     },
     "execution_count": 14,
     "metadata": {},
     "output_type": "execute_result"
    }
   ],
   "source": [
    "sales.head()"
   ]
  },
  {
   "cell_type": "code",
   "execution_count": null,
   "metadata": {},
   "outputs": [],
   "source": [
    "sales.describe"
   ]
  }
 ],
 "metadata": {
  "kernelspec": {
   "display_name": "Python 3.10.8 ('.venv': venv)",
   "language": "python",
   "name": "python3"
  },
  "language_info": {
   "codemirror_mode": {
    "name": "ipython",
    "version": 3
   },
   "file_extension": ".py",
   "mimetype": "text/x-python",
   "name": "python",
   "nbconvert_exporter": "python",
   "pygments_lexer": "ipython3",
   "version": "3.10.8"
  },
  "orig_nbformat": 4,
  "vscode": {
   "interpreter": {
    "hash": "aba22bf8443a854cef284ea48579888982ebee6fd7bb6f39cbc3ed499d3c8b1b"
   }
  }
 },
 "nbformat": 4,
 "nbformat_minor": 2
}
